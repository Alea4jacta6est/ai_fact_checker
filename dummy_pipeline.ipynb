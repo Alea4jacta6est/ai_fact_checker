{
 "cells": [
  {
   "cell_type": "code",
   "execution_count": null,
   "id": "3994fbe6-d5ea-453b-9e9d-3afe98e149b6",
   "metadata": {
    "collapsed": true,
    "jupyter": {
     "outputs_hidden": true
    },
    "tags": []
   },
   "outputs": [],
   "source": [
    "!pip install langchain\n",
    "!pip install pypdf\n",
    "!pip install chromadb"
   ]
  },
  {
   "cell_type": "code",
   "execution_count": null,
   "id": "6afcd67d-03ff-4bc5-ae07-e78435094536",
   "metadata": {
    "tags": []
   },
   "outputs": [],
   "source": [
    "from langchain.text_splitter import RecursiveCharacterTextSplitter\n",
    "from langchain.document_loaders import PyPDFLoader\n",
    "\n",
    "\n",
    "path = \"path to source files\"\n",
    "claims_path = \"path to target file to be checked\"\n",
    "doc = PyPDFLoader(path).load_and_split()\n",
    "claims = PyPDFLoader(claims_path).load_and_split()\n",
    "print(\"The number of pages is\", len(doc), f\"in {path}\")\n",
    "print(\"The number of pages is\", len(claims), f\"in {claims_path}\")"
   ]
  },
  {
   "cell_type": "code",
   "execution_count": null,
   "id": "49163c4b-93fc-4781-810b-22bdf9cb91fc",
   "metadata": {
    "tags": []
   },
   "outputs": [],
   "source": [
    "print(doc[1])"
   ]
  },
  {
   "cell_type": "code",
   "execution_count": null,
   "id": "c1080e40-4ae7-4465-9924-db86c8173734",
   "metadata": {
    "collapsed": true,
    "jupyter": {
     "outputs_hidden": true
    },
    "tags": []
   },
   "outputs": [],
   "source": [
    "text_splitter = RecursiveCharacterTextSplitter(chunk_size=500, chunk_overlap=0)\n",
    "chunks = text_splitter.split_documents(doc)\n",
    "for item in chunks:\n",
    "    print(\"\\nPARAGRAPH:\\n\")\n",
    "    print(item.page_content)"
   ]
  },
  {
   "cell_type": "code",
   "execution_count": null,
   "id": "b2d5d63f-dcee-4c34-92cb-b3f2b7909707",
   "metadata": {},
   "outputs": [],
   "source": [
    "from langchain.vectorstores import Chroma\n",
    "import openai\n",
    "from langchain.embeddings.openai import OpenAIEmbeddings\n",
    "\n",
    "\n",
    "openai.api_key = 'YOUR KEY'\n",
    "embedding = OpenAIEmbeddings(openai_api_key=openai.api_key)\n",
    "\n",
    "persist_directory = 'docs/chroma'\n",
    "vectordb = Chroma.from_documents(\n",
    "    documents=chunks,\n",
    "    embedding=embedding,\n",
    "    persist_directory=persist_directory\n",
    ")"
   ]
  },
  {
   "cell_type": "code",
   "execution_count": null,
   "id": "cc6d5496-83cb-4ec2-abc8-40f3be25aaf2",
   "metadata": {},
   "outputs": [],
   "source": [
    "claim = \"\"\"WELIREG may cause serious side effects. WELIREG may cause harm to your unborn baby.\n",
    "• A pregnancy test will be done before you start treatment.\n",
    "• Birth control methods that contain hormones may not work as well during treatment.\n",
    "• Females and males with female partners who can become pregnant should use an effective\n",
    "form of non-hormonal birth control (contraception) during treatment and for 1 week after\n",
    "your last dose.\"\"\"\n",
    "\n",
    "def ask_from_pdf(question, vectordb, k=5):\n",
    "    docs = vectordb.similarity_search(question, k)\n",
    "    return docs\n",
    "\n",
    "result = ask_from_pdf(claim, vectordb)"
   ]
  },
  {
   "cell_type": "code",
   "execution_count": null,
   "id": "3df2e82b-466f-4cdc-8611-4c3cbbb49115",
   "metadata": {
    "tags": []
   },
   "outputs": [],
   "source": [
    "top_paragraphs = [result[i].dict()[\"page_content\"] for i in range(len(result))]\n",
    "for par in top_paragraphs:\n",
    "    print(par, \"\\n\\n\")"
   ]
  },
  {
   "cell_type": "code",
   "execution_count": null,
   "id": "e6f5a3a9-4e2d-4a5b-9823-d966d0f40455",
   "metadata": {},
   "outputs": [],
   "source": [
    "from langchain import PromptTemplate\n",
    "\n",
    "\n",
    "template = \"\"\"Given this claim: {claim}\n",
    "And these source paragraphs: {search_results}\n",
    "Could you list only the factual errors and serious inconsistencies in the provided claim given these sources? Note, that the claim can be correct, return \"Good\" in this case\n",
    "\"\"\"\n",
    "\n",
    "prompt = PromptTemplate.from_template(template)\n",
    "input_prompt = prompt.format(claim=claim, search_results=\"\\n\".join(top_paragraphs))\n",
    "print(input_prompt)"
   ]
  },
  {
   "cell_type": "code",
   "execution_count": null,
   "id": "d1d2f624-7264-47a0-ab7e-f968b47e86f4",
   "metadata": {},
   "outputs": [],
   "source": [
    "from langchain.chat_models import ChatOpenAI\n",
    "from langchain.schema import (\n",
    "    AIMessage,\n",
    "    HumanMessage,\n",
    "    SystemMessage\n",
    ")\n",
    "\n",
    "chat = ChatOpenAI(openai_api_key=openai.api_key, temperature=0)\n",
    "model_output = chat([HumanMessage(content=input_prompt)])"
   ]
  },
  {
   "cell_type": "code",
   "execution_count": null,
   "id": "d709d15a-8fcc-401e-b7de-09ab0a0e63de",
   "metadata": {},
   "outputs": [],
   "source": [
    "print(model_output.content)"
   ]
  }
 ],
 "metadata": {
  "kernelspec": {
   "display_name": "Python 3 (ipykernel)",
   "language": "python",
   "name": "python3"
  },
  "language_info": {
   "codemirror_mode": {
    "name": "ipython",
    "version": 3
   },
   "file_extension": ".py",
   "mimetype": "text/x-python",
   "name": "python",
   "nbconvert_exporter": "python",
   "pygments_lexer": "ipython3",
   "version": "3.10.10"
  }
 },
 "nbformat": 4,
 "nbformat_minor": 5
}
